{
 "cells": [
  {
   "cell_type": "markdown",
   "id": "altered-privacy",
   "metadata": {},
   "source": [
    "# In this lesson we will discuss the Collatz Conjecture.  A longstanding unproven problem in Mathematics.\n",
    "\n",
    "The Collatz Conjecture asserts that the following sequence will converge on 1 for all positive integers.  It holds true for every tested integer, but there is no proof that it holds for all integers.\n",
    "\n",
    "$$ x_{n+1} = \\begin{cases}\n",
    "          \\frac{x_n}{2} & \\text{if} \\, x \\text{ is even} \\\\\n",
    "          3x_n + 1 &\\text{if} \\, x \\text{ is odd} \\\\\n",
    "         \\end{cases} $$\n",
    "\n",
    "Let's start by explaining a simple _function_ that finds the length of sequence."
   ]
  },
  {
   "cell_type": "code",
   "execution_count": null,
   "id": "chronic-comedy",
   "metadata": {},
   "outputs": [],
   "source": [
    "def collatz(x):\n",
    "    counter = 1\n",
    "    while x != 1:\n",
    "        if x % 2:\n",
    "            x = x * 3 + 1\n",
    "        else:\n",
    "            x = x // 2\n",
    "        counter  = counter + 1\n",
    "    return counter\n",
    "\n",
    "#version that prints the sequence as it goes\n",
    "def noisy_collatz(x):\n",
    "    counter = 1\n",
    "    while x != 1:\n",
    "        print(x)\n",
    "        if x % 2:\n",
    "            x = x * 3 + 1\n",
    "        else:\n",
    "            x = x // 2\n",
    "        counter  = counter + 1\n",
    "    return counter\n",
    "            \n",
    "#recursive version that generates the entire sequence    \n",
    "def collatz_sequence(x):\n",
    "    if x == 1:\n",
    "        return [1]\n",
    "    elif x % 2:\n",
    "        return collatz_sequence(x * 3 + 1) + [x]\n",
    "    else:\n",
    "        return collatz_sequence(x // 2) + [x]\n",
    "\n",
    "bestSoFar = 0\n",
    "bestVaue = 0"
   ]
  },
  {
   "cell_type": "markdown",
   "id": "sunrise-cylinder",
   "metadata": {},
   "source": [
    "You can find the length of the collatz seqeunce for a number, by saying _collatz( number )_.  Try some numbers and see how long of a sequence you can find.\n",
    "\n",
    "If you want to see your sequence, try replacing the _collatz_ function with _noisy_collatz_ (but don't do it with too larger of a number)."
   ]
  },
  {
   "cell_type": "code",
   "execution_count": null,
   "id": "involved-straight",
   "metadata": {},
   "outputs": [],
   "source": [
    "#assign your number to value on the next line\n",
    "value = 7\n",
    "#assign your number on value the previous line\n",
    "\n",
    "result = collatz(value)\n",
    "print(\"Length of sequence for \" + str(value) + \" is \" + str(result))\n",
    "if result > bestSoFar:\n",
    "    print(\"You broke your record!\")\n",
    "    bestSoFar = result\n",
    "    bestValue = value\n",
    "print(\"Your longest sequence so far is \" + str(bestSoFar) + \" for a value of \" + str(bestValue))\n"
   ]
  },
  {
   "cell_type": "markdown",
   "id": "oriented-filename",
   "metadata": {},
   "source": [
    "You may have noticed that larger numbers tend to produce longer sequences.  But it's not that simple.\n",
    "\n",
    "Let's plot the sequence lengths."
   ]
  },
  {
   "cell_type": "code",
   "execution_count": null,
   "id": "spare-experiment",
   "metadata": {},
   "outputs": [],
   "source": [
    "%matplotlib inline\n",
    "import matplotlib.pyplot as plt\n",
    "\n",
    "index = []\n",
    "sequence_lengths = []\n",
    "\n",
    "#assign the number of sequences you wish to calculate on the next line (try to keep is less than a million)\n",
    "runs=65\n",
    "#assign the number of sequences you wish to calculate on the previous line (try to keep is less than a million)\n",
    "\n",
    "start = 1\n",
    "stop = runs\n",
    "\n",
    "for i in range(start,stop):\n",
    "    index.append(i)\n",
    "    sequence_lengths.append(collatz(i))\n",
    "\n",
    "plt.plot(index,sequence_lengths,\"o\")\n",
    "plt.show()"
   ]
  },
  {
   "cell_type": "markdown",
   "id": "herbal-bachelor",
   "metadata": {},
   "source": [
    "You may notice that the lowest points are the chart are all powers of 2.  This is because they continuously follow the _even_ rule until they hit 1.\n",
    "\n",
    "If you want to generate a bigger plot, increase the value of runs.\n",
    "\n",
    "If you want to find the value with the largest sequence, you can identity roughly where it is in the plot, and try to track it down by adjusting the _start_ and _stop_ values in the _range_.  **Try to find your best number**.\n",
    "\n",
    "Also, we can make the plot a little prettier with some extra effort.  Run the next code block."
   ]
  },
  {
   "cell_type": "code",
   "execution_count": null,
   "id": "binding-seeking",
   "metadata": {},
   "outputs": [],
   "source": [
    "import altair as alt\n",
    "import matplotlib.pyplot as plt\n",
    "import numpy as np\n",
    "import pandas as pd\n",
    "\n",
    "if( runs > 5000):\n",
    "    runs = 5000\n",
    "\n",
    "df=pd.DataFrame(zip(np.arange(1,runs),sequence_lengths), columns=[\"i\",\"len\"])\n",
    "df['is_even']=df['i'].apply(lambda x: 1 if x%2==0 else 0)\n",
    "\n",
    "domain=['Odd', 'Even']\n",
    "alt.Chart(df).mark_point(\n",
    "    opacity=0.2\n",
    "    ).encode(\n",
    "    x=alt.X('i',scale=alt.Scale(domain=(0, 5050)), axis=alt.Axis(title='N')),\n",
    "    y=alt.Y('len', axis=alt.Axis(title='Length of Collatz Sequence')),\n",
    "    color=alt.Color('is_even:N', scale=alt.Scale(scheme=\"darkblue\"), legend=None)\n",
    "\n",
    "\n",
    ").properties(\n",
    "    width=600,\n",
    "    height=400,\n",
    "    title='Collatz Sequence',\n",
    "\n",
    ").configure_axis(\n",
    "    grid=False\n",
    ").configure_view(\n",
    "    strokeOpacity=0\n",
    ")"
   ]
  },
  {
   "cell_type": "markdown",
   "id": "focal-plant",
   "metadata": {},
   "source": [
    "Let's get creative and make some art using the collatz conjecture.\n",
    "\n",
    "Instead of plotting the value alone, let's draw a curved line based on the sequence.  What if we turn left if the number in the sequence is odd and turn right if it's even?\n",
    "\n",
    "Run the code block below."
   ]
  },
  {
   "cell_type": "code",
   "execution_count": null,
   "id": "alike-change",
   "metadata": {},
   "outputs": [],
   "source": [
    "def color_picker():\n",
    "    return np.random.choice(['#FF5E02','red', 'blue','#6400FF','#E10060','#02D1FF'])\n",
    "\n",
    "def transforms(x):\n",
    "    seq=[0]\n",
    "    val=[0]\n",
    "    rad=0\n",
    "    \n",
    "    #MAKE CHANGES BELOW\n",
    "    #There are likely to be more even than odd numbers in short sequences, so try to make it smaller in magnitude\n",
    "    \n",
    "    #assign even to a larger or smaller number depending on how much you want it to turn (it can be negative)\n",
    "    even= -.54 * (np.pi / 180 )\n",
    "    #assign odd to a larger or smaller number depending on how much you want it to turn (it can be negative)\n",
    "    odd = 1.2* (np.pi / 180 )\n",
    "    \n",
    "    #MAKE CHANGES ABOVE\n",
    "    \n",
    "    for i in range(1, len(x)):\n",
    "        if x[i]%2==0:\n",
    "            seq.append(seq[i-1]+np.sin(rad+even))\n",
    "            rad=rad+even            \n",
    "        else:\n",
    "            seq.append(seq[i-1]+np.sin(rad+odd))\n",
    "            rad=rad+odd\n",
    "        val.append(val[i-1]+np.cos(rad))\n",
    "    return val,seq\n",
    "\n",
    "plt.figure(figsize=(10,10))\n",
    "fig, ax = plt.subplots()\n",
    "fig.set_figheight(10)\n",
    "fig.set_figwidth(10)\n",
    "runs=500\n",
    "for i in range(1, runs):\n",
    "    length = collatz_sequence(i) \n",
    "    sequence_lengths.append(length)\n",
    "    x,y = transforms(np.array(length))\n",
    "    #ax.set_facecolor('black')\n",
    "    ax.plot(x,y, alpha=0.15, color=color_picker());  "
   ]
  },
  {
   "cell_type": "markdown",
   "id": "blond-assistant",
   "metadata": {},
   "source": [
    "Some people refer to this as the Collatz Feather.  There are other interesting visualizations that can be done as well."
   ]
  },
  {
   "cell_type": "code",
   "execution_count": null,
   "id": "australian-clearance",
   "metadata": {},
   "outputs": [],
   "source": []
  }
 ],
 "metadata": {
  "kernelspec": {
   "display_name": "Python 3",
   "language": "python",
   "name": "python3"
  },
  "language_info": {
   "codemirror_mode": {
    "name": "ipython",
    "version": 3
   },
   "file_extension": ".py",
   "mimetype": "text/x-python",
   "name": "python",
   "nbconvert_exporter": "python",
   "pygments_lexer": "ipython3",
   "version": "3.9.13"
  }
 },
 "nbformat": 4,
 "nbformat_minor": 5
}
